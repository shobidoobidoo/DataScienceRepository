{
 "cells": [
  {
   "cell_type": "markdown",
   "id": "46bb021e-862a-40ad-ab7c-25c3eeb8fb1a",
   "metadata": {},
   "source": [
    "## Data Science tools and Ecosystem"
   ]
  },
  {
   "cell_type": "markdown",
   "id": "6c5cc7f8-ace5-4673-83b5-ed23c39430f3",
   "metadata": {},
   "source": [
    "In this notebook, Data Science Tools and Ecosystem are summarized."
   ]
  },
  {
   "cell_type": "markdown",
   "id": "73c0e530-d949-448b-9cbb-2906c7c97a4c",
   "metadata": {},
   "source": [
    "Some of the popular languages that Data Scientists use are:\n",
    "1. Python\n",
    "2. R\n",
    "3. Java"
   ]
  },
  {
   "cell_type": "markdown",
   "id": "e1a55cd7-f964-4486-ab77-d4a5ae5c1969",
   "metadata": {},
   "source": [
    "Some of the commonly used libraries used by Data Scientists include:\n",
    "1. Pandas\n",
    "2. Numpy\n",
    "3. SciPy\n",
    "4. Matplotlib"
   ]
  },
  {
   "cell_type": "markdown",
   "id": "0462ea5b-1d54-4f32-99cb-e2ee2a6f286f",
   "metadata": {},
   "source": [
    "|Data Science Tools|\n",
    "|---|\n",
    "|Jupyter|\n",
    "|Jupyter Labs|\n",
    "|Spyder|"
   ]
  },
  {
   "cell_type": "markdown",
   "id": "d7e8b809-c331-4eac-9d84-3daf670e7e6a",
   "metadata": {},
   "source": [
    "Below are a few examples of evaluating arithmetic expressions in Python"
   ]
  },
  {
   "cell_type": "code",
   "execution_count": null,
   "id": "6af9cf28-bcaf-47b7-930a-ed837b90831b",
   "metadata": {},
   "outputs": [],
   "source": [
    "#This a simple arithmetic expression to mutiply then add integers\n",
    "(3*4)+5"
   ]
  }
 ],
 "metadata": {
  "kernelspec": {
   "display_name": "Python",
   "language": "python",
   "name": "conda-env-python-py"
  },
  "language_info": {
   "codemirror_mode": {
    "name": "ipython",
    "version": 3
   },
   "file_extension": ".py",
   "mimetype": "text/x-python",
   "name": "python",
   "nbconvert_exporter": "python",
   "pygments_lexer": "ipython3",
   "version": "3.7.12"
  }
 },
 "nbformat": 4,
 "nbformat_minor": 5
}
